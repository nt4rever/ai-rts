{
 "cells": [
  {
   "cell_type": "code",
   "execution_count": 1,
   "metadata": {},
   "outputs": [],
   "source": [
    "from PIL import Image\n",
    "import os\n",
    "\n",
    "def resize_images(input_folder, output_folder, new_size):\n",
    "    # Create the output folder if it doesn't exist\n",
    "    if not os.path.exists(output_folder):\n",
    "        os.makedirs(output_folder)\n",
    "\n",
    "    # Loop through all files in the input folder\n",
    "    for filename in os.listdir(input_folder):\n",
    "        input_path = os.path.join(input_folder, filename)\n",
    "\n",
    "        # Check if the file is an image (you might want to improve this check)\n",
    "        if os.path.isfile(input_path) and filename.lower().endswith(('.png', '.jpg', '.jpeg', '.gif')):\n",
    "            # Open the image\n",
    "            img = Image.open(input_path)\n",
    "\n",
    "            # Resize the image\n",
    "            img_resized = img.resize(new_size)\n",
    "\n",
    "            # Save the resized image to the output folder\n",
    "            output_path = os.path.join(output_folder, filename)\n",
    "            img_resized.save(output_path)"
   ]
  },
  {
   "cell_type": "code",
   "execution_count": 4,
   "metadata": {},
   "outputs": [],
   "source": [
    "LABELS = ('dry_asphalt_severe',\n",
    "          'dry_asphalt_slight',\n",
    "          'dry_asphalt_smooth',\n",
    "          'dry_concrete_severe',\n",
    "          'dry_concrete_slight',\n",
    "          'dry_concrete_smooth',\n",
    "          'water_asphalt_severe',\n",
    "          'water_asphalt_slight',\n",
    "          'water_asphalt_smooth',\n",
    "          'water_concrete_severe',\n",
    "          'water_concrete_slight',\n",
    "          'water_concrete_smooth',\n",
    "          'wet_asphalt_severe',\n",
    "          'wet_asphalt_slight',\n",
    "          'wet_asphalt_smooth',\n",
    "          'wet_concrete_severe',\n",
    "          'wet_concrete_slight',\n",
    "          'wet_concrete_smooth')\n",
    "for l in LABELS:\n",
    "    input_folder = \"./datasets/\"+l\n",
    "    output_folder = \"./datasets-resize/\"+l\n",
    "    new_size = (224, 224)  # Specify the new size (width, height)\n",
    "\n",
    "    resize_images(input_folder, output_folder, new_size)"
   ]
  }
 ],
 "metadata": {
  "kernelspec": {
   "display_name": "rts",
   "language": "python",
   "name": "python3"
  },
  "language_info": {
   "codemirror_mode": {
    "name": "ipython",
    "version": 3
   },
   "file_extension": ".py",
   "mimetype": "text/x-python",
   "name": "python",
   "nbconvert_exporter": "python",
   "pygments_lexer": "ipython3",
   "version": "3.10.13"
  }
 },
 "nbformat": 4,
 "nbformat_minor": 2
}
