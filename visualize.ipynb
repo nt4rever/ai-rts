{
 "cells": [
  {
   "cell_type": "code",
   "execution_count": 1,
   "metadata": {},
   "outputs": [],
   "source": [
    "history = {'loss': [0.6690629124641418,\n",
    "                    0.5141015648841858,\n",
    "                    0.46271705627441406,\n",
    "                    0.4310910105705261,\n",
    "                    0.4137895703315735,\n",
    "                    0.3932514190673828,\n",
    "                    0.38049158453941345,\n",
    "                    0.36860325932502747,\n",
    "                    0.35877981781959534,\n",
    "                    0.34868043661117554,\n",
    "                    0.34983915090560913,\n",
    "                    0.33298805356025696,\n",
    "                    0.3269141614437103,\n",
    "                    0.3268711268901825,\n",
    "                    0.315024197101593],\n",
    "           'accuracy': [0.7521534562110901,\n",
    "                        0.8064104318618774,\n",
    "                        0.823574423789978,\n",
    "                        0.8378033638000488,\n",
    "                        0.8433758020401001,\n",
    "                        0.8511176705360413,\n",
    "                        0.8569878935813904,\n",
    "                        0.8603058457374573,\n",
    "                        0.8643256425857544,\n",
    "                        0.8687921166419983,\n",
    "                        0.8698555827140808,\n",
    "                        0.8738541603088379,\n",
    "                        0.877448558807373,\n",
    "                        0.8781930208206177,\n",
    "                        0.8818512558937073],\n",
    "           'val_loss': [1.3824472427368164,\n",
    "                        1.2831628322601318,\n",
    "                        1.3750760555267334,\n",
    "                        1.5347179174423218,\n",
    "                        1.451094388961792,\n",
    "                        1.6488137245178223,\n",
    "                        1.4453610181808472,\n",
    "                        1.6968278884887695,\n",
    "                        1.595888376235962,\n",
    "                        1.8041080236434937,\n",
    "                        1.7349298000335693,\n",
    "                        1.625914216041565,\n",
    "                        1.8319491147994995,\n",
    "                        1.6154347658157349,\n",
    "                        1.953277349472046],\n",
    "           'val_accuracy': [0.5455164313316345,\n",
    "                            0.5763995051383972,\n",
    "                            0.5764846205711365,\n",
    "                            0.5709545612335205,\n",
    "                            0.6140037178993225,\n",
    "                            0.586523711681366,\n",
    "                            0.6003913283348083,\n",
    "                            0.5936702489852905,\n",
    "                            0.6037944555282593,\n",
    "                            0.5772503018379211,\n",
    "                            0.6037093997001648,\n",
    "                            0.6134932637214661,\n",
    "                            0.601837694644928,\n",
    "                            0.6208950281143188,\n",
    "                            0.6148545145988464]}"
   ]
  },
  {
   "cell_type": "code",
   "execution_count": 2,
   "metadata": {},
   "outputs": [
    {
     "data": {
      "application/vnd.plotly.v1+json": {
       "config": {
        "plotlyServerURL": "https://plot.ly"
       },
       "data": [
        {
         "line": {
          "color": "#76503d",
          "width": 2
         },
         "marker": {
          "color": "#76503d",
          "line": {
           "color": "White",
           "width": 0.5
          },
          "size": 8
         },
         "mode": "markers+lines",
         "name": "Training Loss",
         "type": "scatter",
         "x": [
          1,
          2,
          3,
          4,
          5,
          6,
          7,
          8,
          9,
          10,
          11,
          12,
          13,
          14,
          15
         ],
         "xaxis": "x",
         "y": [
          0.6690629124641418,
          0.5141015648841858,
          0.46271705627441406,
          0.4310910105705261,
          0.4137895703315735,
          0.3932514190673828,
          0.38049158453941345,
          0.36860325932502747,
          0.35877981781959534,
          0.34868043661117554,
          0.34983915090560913,
          0.33298805356025696,
          0.3269141614437103,
          0.3268711268901825,
          0.315024197101593
         ],
         "yaxis": "y"
        },
        {
         "line": {
          "color": "#76503d",
          "width": 2
         },
         "marker": {
          "color": "#76503d",
          "line": {
           "color": "White",
           "width": 0.5
          },
          "size": 8
         },
         "mode": "markers+lines",
         "name": "Training Accuracy",
         "type": "scatter",
         "x": [
          1,
          2,
          3,
          4,
          5,
          6,
          7,
          8,
          9,
          10,
          11,
          12,
          13,
          14,
          15
         ],
         "xaxis": "x2",
         "y": [
          0.7521534562110901,
          0.8064104318618774,
          0.823574423789978,
          0.8378033638000488,
          0.8433758020401001,
          0.8511176705360413,
          0.8569878935813904,
          0.8603058457374573,
          0.8643256425857544,
          0.8687921166419983,
          0.8698555827140808,
          0.8738541603088379,
          0.877448558807373,
          0.8781930208206177,
          0.8818512558937073
         ],
         "yaxis": "y2"
        },
        {
         "line": {
          "color": "#76503d",
          "width": 2
         },
         "marker": {
          "color": "#76503d",
          "line": {
           "color": "White",
           "width": 0.5
          },
          "size": 8
         },
         "mode": "markers+lines",
         "name": "Training Validation Accuracy",
         "type": "scatter",
         "x": [
          1,
          2,
          3,
          4,
          5,
          6,
          7,
          8,
          9,
          10,
          11,
          12,
          13,
          14,
          15
         ],
         "xaxis": "x3",
         "y": [
          0.5455164313316345,
          0.5763995051383972,
          0.5764846205711365,
          0.5709545612335205,
          0.6140037178993225,
          0.586523711681366,
          0.6003913283348083,
          0.5936702489852905,
          0.6037944555282593,
          0.5772503018379211,
          0.6037093997001648,
          0.6134932637214661,
          0.601837694644928,
          0.6208950281143188,
          0.6148545145988464
         ],
         "yaxis": "y3"
        }
       ],
       "layout": {
        "annotations": [
         {
          "font": {
           "size": 16
          },
          "showarrow": false,
          "text": "Model Loss",
          "x": 0.14444444444444446,
          "xanchor": "center",
          "xref": "paper",
          "y": 1,
          "yanchor": "bottom",
          "yref": "paper"
         },
         {
          "font": {
           "size": 16
          },
          "showarrow": false,
          "text": "Model Accuracy",
          "x": 0.5,
          "xanchor": "center",
          "xref": "paper",
          "y": 1,
          "yanchor": "bottom",
          "yref": "paper"
         },
         {
          "font": {
           "size": 16
          },
          "showarrow": false,
          "text": "Model Validation Accuracy",
          "x": 0.8555555555555556,
          "xanchor": "center",
          "xref": "paper",
          "y": 1,
          "yanchor": "bottom",
          "yref": "paper"
         }
        ],
        "height": 400,
        "paper_bgcolor": "White",
        "plot_bgcolor": "White",
        "showlegend": false,
        "template": {
         "data": {
          "bar": [
           {
            "error_x": {
             "color": "#2a3f5f"
            },
            "error_y": {
             "color": "#2a3f5f"
            },
            "marker": {
             "line": {
              "color": "#E5ECF6",
              "width": 0.5
             },
             "pattern": {
              "fillmode": "overlay",
              "size": 10,
              "solidity": 0.2
             }
            },
            "type": "bar"
           }
          ],
          "barpolar": [
           {
            "marker": {
             "line": {
              "color": "#E5ECF6",
              "width": 0.5
             },
             "pattern": {
              "fillmode": "overlay",
              "size": 10,
              "solidity": 0.2
             }
            },
            "type": "barpolar"
           }
          ],
          "carpet": [
           {
            "aaxis": {
             "endlinecolor": "#2a3f5f",
             "gridcolor": "white",
             "linecolor": "white",
             "minorgridcolor": "white",
             "startlinecolor": "#2a3f5f"
            },
            "baxis": {
             "endlinecolor": "#2a3f5f",
             "gridcolor": "white",
             "linecolor": "white",
             "minorgridcolor": "white",
             "startlinecolor": "#2a3f5f"
            },
            "type": "carpet"
           }
          ],
          "choropleth": [
           {
            "colorbar": {
             "outlinewidth": 0,
             "ticks": ""
            },
            "type": "choropleth"
           }
          ],
          "contour": [
           {
            "colorbar": {
             "outlinewidth": 0,
             "ticks": ""
            },
            "colorscale": [
             [
              0,
              "#0d0887"
             ],
             [
              0.1111111111111111,
              "#46039f"
             ],
             [
              0.2222222222222222,
              "#7201a8"
             ],
             [
              0.3333333333333333,
              "#9c179e"
             ],
             [
              0.4444444444444444,
              "#bd3786"
             ],
             [
              0.5555555555555556,
              "#d8576b"
             ],
             [
              0.6666666666666666,
              "#ed7953"
             ],
             [
              0.7777777777777778,
              "#fb9f3a"
             ],
             [
              0.8888888888888888,
              "#fdca26"
             ],
             [
              1,
              "#f0f921"
             ]
            ],
            "type": "contour"
           }
          ],
          "contourcarpet": [
           {
            "colorbar": {
             "outlinewidth": 0,
             "ticks": ""
            },
            "type": "contourcarpet"
           }
          ],
          "heatmap": [
           {
            "colorbar": {
             "outlinewidth": 0,
             "ticks": ""
            },
            "colorscale": [
             [
              0,
              "#0d0887"
             ],
             [
              0.1111111111111111,
              "#46039f"
             ],
             [
              0.2222222222222222,
              "#7201a8"
             ],
             [
              0.3333333333333333,
              "#9c179e"
             ],
             [
              0.4444444444444444,
              "#bd3786"
             ],
             [
              0.5555555555555556,
              "#d8576b"
             ],
             [
              0.6666666666666666,
              "#ed7953"
             ],
             [
              0.7777777777777778,
              "#fb9f3a"
             ],
             [
              0.8888888888888888,
              "#fdca26"
             ],
             [
              1,
              "#f0f921"
             ]
            ],
            "type": "heatmap"
           }
          ],
          "heatmapgl": [
           {
            "colorbar": {
             "outlinewidth": 0,
             "ticks": ""
            },
            "colorscale": [
             [
              0,
              "#0d0887"
             ],
             [
              0.1111111111111111,
              "#46039f"
             ],
             [
              0.2222222222222222,
              "#7201a8"
             ],
             [
              0.3333333333333333,
              "#9c179e"
             ],
             [
              0.4444444444444444,
              "#bd3786"
             ],
             [
              0.5555555555555556,
              "#d8576b"
             ],
             [
              0.6666666666666666,
              "#ed7953"
             ],
             [
              0.7777777777777778,
              "#fb9f3a"
             ],
             [
              0.8888888888888888,
              "#fdca26"
             ],
             [
              1,
              "#f0f921"
             ]
            ],
            "type": "heatmapgl"
           }
          ],
          "histogram": [
           {
            "marker": {
             "pattern": {
              "fillmode": "overlay",
              "size": 10,
              "solidity": 0.2
             }
            },
            "type": "histogram"
           }
          ],
          "histogram2d": [
           {
            "colorbar": {
             "outlinewidth": 0,
             "ticks": ""
            },
            "colorscale": [
             [
              0,
              "#0d0887"
             ],
             [
              0.1111111111111111,
              "#46039f"
             ],
             [
              0.2222222222222222,
              "#7201a8"
             ],
             [
              0.3333333333333333,
              "#9c179e"
             ],
             [
              0.4444444444444444,
              "#bd3786"
             ],
             [
              0.5555555555555556,
              "#d8576b"
             ],
             [
              0.6666666666666666,
              "#ed7953"
             ],
             [
              0.7777777777777778,
              "#fb9f3a"
             ],
             [
              0.8888888888888888,
              "#fdca26"
             ],
             [
              1,
              "#f0f921"
             ]
            ],
            "type": "histogram2d"
           }
          ],
          "histogram2dcontour": [
           {
            "colorbar": {
             "outlinewidth": 0,
             "ticks": ""
            },
            "colorscale": [
             [
              0,
              "#0d0887"
             ],
             [
              0.1111111111111111,
              "#46039f"
             ],
             [
              0.2222222222222222,
              "#7201a8"
             ],
             [
              0.3333333333333333,
              "#9c179e"
             ],
             [
              0.4444444444444444,
              "#bd3786"
             ],
             [
              0.5555555555555556,
              "#d8576b"
             ],
             [
              0.6666666666666666,
              "#ed7953"
             ],
             [
              0.7777777777777778,
              "#fb9f3a"
             ],
             [
              0.8888888888888888,
              "#fdca26"
             ],
             [
              1,
              "#f0f921"
             ]
            ],
            "type": "histogram2dcontour"
           }
          ],
          "mesh3d": [
           {
            "colorbar": {
             "outlinewidth": 0,
             "ticks": ""
            },
            "type": "mesh3d"
           }
          ],
          "parcoords": [
           {
            "line": {
             "colorbar": {
              "outlinewidth": 0,
              "ticks": ""
             }
            },
            "type": "parcoords"
           }
          ],
          "pie": [
           {
            "automargin": true,
            "type": "pie"
           }
          ],
          "scatter": [
           {
            "fillpattern": {
             "fillmode": "overlay",
             "size": 10,
             "solidity": 0.2
            },
            "type": "scatter"
           }
          ],
          "scatter3d": [
           {
            "line": {
             "colorbar": {
              "outlinewidth": 0,
              "ticks": ""
             }
            },
            "marker": {
             "colorbar": {
              "outlinewidth": 0,
              "ticks": ""
             }
            },
            "type": "scatter3d"
           }
          ],
          "scattercarpet": [
           {
            "marker": {
             "colorbar": {
              "outlinewidth": 0,
              "ticks": ""
             }
            },
            "type": "scattercarpet"
           }
          ],
          "scattergeo": [
           {
            "marker": {
             "colorbar": {
              "outlinewidth": 0,
              "ticks": ""
             }
            },
            "type": "scattergeo"
           }
          ],
          "scattergl": [
           {
            "marker": {
             "colorbar": {
              "outlinewidth": 0,
              "ticks": ""
             }
            },
            "type": "scattergl"
           }
          ],
          "scattermapbox": [
           {
            "marker": {
             "colorbar": {
              "outlinewidth": 0,
              "ticks": ""
             }
            },
            "type": "scattermapbox"
           }
          ],
          "scatterpolar": [
           {
            "marker": {
             "colorbar": {
              "outlinewidth": 0,
              "ticks": ""
             }
            },
            "type": "scatterpolar"
           }
          ],
          "scatterpolargl": [
           {
            "marker": {
             "colorbar": {
              "outlinewidth": 0,
              "ticks": ""
             }
            },
            "type": "scatterpolargl"
           }
          ],
          "scatterternary": [
           {
            "marker": {
             "colorbar": {
              "outlinewidth": 0,
              "ticks": ""
             }
            },
            "type": "scatterternary"
           }
          ],
          "surface": [
           {
            "colorbar": {
             "outlinewidth": 0,
             "ticks": ""
            },
            "colorscale": [
             [
              0,
              "#0d0887"
             ],
             [
              0.1111111111111111,
              "#46039f"
             ],
             [
              0.2222222222222222,
              "#7201a8"
             ],
             [
              0.3333333333333333,
              "#9c179e"
             ],
             [
              0.4444444444444444,
              "#bd3786"
             ],
             [
              0.5555555555555556,
              "#d8576b"
             ],
             [
              0.6666666666666666,
              "#ed7953"
             ],
             [
              0.7777777777777778,
              "#fb9f3a"
             ],
             [
              0.8888888888888888,
              "#fdca26"
             ],
             [
              1,
              "#f0f921"
             ]
            ],
            "type": "surface"
           }
          ],
          "table": [
           {
            "cells": {
             "fill": {
              "color": "#EBF0F8"
             },
             "line": {
              "color": "white"
             }
            },
            "header": {
             "fill": {
              "color": "#C8D4E3"
             },
             "line": {
              "color": "white"
             }
            },
            "type": "table"
           }
          ]
         },
         "layout": {
          "annotationdefaults": {
           "arrowcolor": "#2a3f5f",
           "arrowhead": 0,
           "arrowwidth": 1
          },
          "autotypenumbers": "strict",
          "coloraxis": {
           "colorbar": {
            "outlinewidth": 0,
            "ticks": ""
           }
          },
          "colorscale": {
           "diverging": [
            [
             0,
             "#8e0152"
            ],
            [
             0.1,
             "#c51b7d"
            ],
            [
             0.2,
             "#de77ae"
            ],
            [
             0.3,
             "#f1b6da"
            ],
            [
             0.4,
             "#fde0ef"
            ],
            [
             0.5,
             "#f7f7f7"
            ],
            [
             0.6,
             "#e6f5d0"
            ],
            [
             0.7,
             "#b8e186"
            ],
            [
             0.8,
             "#7fbc41"
            ],
            [
             0.9,
             "#4d9221"
            ],
            [
             1,
             "#276419"
            ]
           ],
           "sequential": [
            [
             0,
             "#0d0887"
            ],
            [
             0.1111111111111111,
             "#46039f"
            ],
            [
             0.2222222222222222,
             "#7201a8"
            ],
            [
             0.3333333333333333,
             "#9c179e"
            ],
            [
             0.4444444444444444,
             "#bd3786"
            ],
            [
             0.5555555555555556,
             "#d8576b"
            ],
            [
             0.6666666666666666,
             "#ed7953"
            ],
            [
             0.7777777777777778,
             "#fb9f3a"
            ],
            [
             0.8888888888888888,
             "#fdca26"
            ],
            [
             1,
             "#f0f921"
            ]
           ],
           "sequentialminus": [
            [
             0,
             "#0d0887"
            ],
            [
             0.1111111111111111,
             "#46039f"
            ],
            [
             0.2222222222222222,
             "#7201a8"
            ],
            [
             0.3333333333333333,
             "#9c179e"
            ],
            [
             0.4444444444444444,
             "#bd3786"
            ],
            [
             0.5555555555555556,
             "#d8576b"
            ],
            [
             0.6666666666666666,
             "#ed7953"
            ],
            [
             0.7777777777777778,
             "#fb9f3a"
            ],
            [
             0.8888888888888888,
             "#fdca26"
            ],
            [
             1,
             "#f0f921"
            ]
           ]
          },
          "colorway": [
           "#636efa",
           "#EF553B",
           "#00cc96",
           "#ab63fa",
           "#FFA15A",
           "#19d3f3",
           "#FF6692",
           "#B6E880",
           "#FF97FF",
           "#FECB52"
          ],
          "font": {
           "color": "#2a3f5f"
          },
          "geo": {
           "bgcolor": "white",
           "lakecolor": "white",
           "landcolor": "#E5ECF6",
           "showlakes": true,
           "showland": true,
           "subunitcolor": "white"
          },
          "hoverlabel": {
           "align": "left"
          },
          "hovermode": "closest",
          "mapbox": {
           "style": "light"
          },
          "paper_bgcolor": "white",
          "plot_bgcolor": "#E5ECF6",
          "polar": {
           "angularaxis": {
            "gridcolor": "white",
            "linecolor": "white",
            "ticks": ""
           },
           "bgcolor": "#E5ECF6",
           "radialaxis": {
            "gridcolor": "white",
            "linecolor": "white",
            "ticks": ""
           }
          },
          "scene": {
           "xaxis": {
            "backgroundcolor": "#E5ECF6",
            "gridcolor": "white",
            "gridwidth": 2,
            "linecolor": "white",
            "showbackground": true,
            "ticks": "",
            "zerolinecolor": "white"
           },
           "yaxis": {
            "backgroundcolor": "#E5ECF6",
            "gridcolor": "white",
            "gridwidth": 2,
            "linecolor": "white",
            "showbackground": true,
            "ticks": "",
            "zerolinecolor": "white"
           },
           "zaxis": {
            "backgroundcolor": "#E5ECF6",
            "gridcolor": "white",
            "gridwidth": 2,
            "linecolor": "white",
            "showbackground": true,
            "ticks": "",
            "zerolinecolor": "white"
           }
          },
          "shapedefaults": {
           "line": {
            "color": "#2a3f5f"
           }
          },
          "ternary": {
           "aaxis": {
            "gridcolor": "white",
            "linecolor": "white",
            "ticks": ""
           },
           "baxis": {
            "gridcolor": "white",
            "linecolor": "white",
            "ticks": ""
           },
           "bgcolor": "#E5ECF6",
           "caxis": {
            "gridcolor": "white",
            "linecolor": "white",
            "ticks": ""
           }
          },
          "title": {
           "x": 0.05
          },
          "xaxis": {
           "automargin": true,
           "gridcolor": "white",
           "linecolor": "white",
           "ticks": "",
           "title": {
            "standoff": 15
           },
           "zerolinecolor": "white",
           "zerolinewidth": 2
          },
          "yaxis": {
           "automargin": true,
           "gridcolor": "white",
           "linecolor": "white",
           "ticks": "",
           "title": {
            "standoff": 15
           },
           "zerolinecolor": "white",
           "zerolinewidth": 2
          }
         }
        },
        "title": {
         "text": "Training Loss and Metrics",
         "x": 0.5
        },
        "width": 1400,
        "xaxis": {
         "anchor": "y",
         "domain": [
          0,
          0.2888888888888889
         ],
         "linecolor": "Black",
         "ticks": "outside",
         "title": {
          "text": "Epochs"
         }
        },
        "xaxis2": {
         "anchor": "y2",
         "domain": [
          0.35555555555555557,
          0.6444444444444445
         ],
         "linecolor": "Black",
         "ticks": "outside",
         "title": {
          "text": "Epochs"
         }
        },
        "xaxis3": {
         "anchor": "y3",
         "domain": [
          0.7111111111111111,
          1
         ],
         "linecolor": "Black",
         "ticks": "outside",
         "title": {
          "text": "Epochs"
         }
        },
        "yaxis": {
         "anchor": "x",
         "domain": [
          0,
          1
         ],
         "linecolor": "Black",
         "ticks": "outside",
         "title": {
          "text": "Categorical Loss"
         }
        },
        "yaxis2": {
         "anchor": "x2",
         "domain": [
          0,
          1
         ],
         "linecolor": "Black",
         "ticks": "outside",
         "title": {
          "text": "Accuracy"
         }
        },
        "yaxis3": {
         "anchor": "x3",
         "domain": [
          0,
          1
         ],
         "linecolor": "Black",
         "ticks": "outside",
         "title": {
          "text": "Validation Accuracy"
         }
        }
       }
      }
     },
     "metadata": {},
     "output_type": "display_data"
    }
   ],
   "source": [
    "# Visualization\n",
    "import matplotlib.pyplot as plt\n",
    "import plotly.graph_objects as go\n",
    "import plotly.express as px\n",
    "from plotly.subplots import make_subplots\n",
    "from sklearn.manifold import TSNE\n",
    "import numpy as np\n",
    "# Visualize Training and Validation Results\n",
    "# Create Subplot\n",
    "fig = make_subplots(\n",
    "        rows=1, cols=3,\n",
    "        subplot_titles=[\"Model Loss\", \"Model Accuracy\", \"Model Validation Accuracy\"], \n",
    ")\n",
    "\n",
    "# Configuration Plot\n",
    "class PlotCFG:\n",
    "    marker_size = 8\n",
    "    line_size = 2\n",
    "    train_color = \"#76503d\"\n",
    "    valid_color = \"#deb392\"\n",
    "\n",
    "# Loss Plot\n",
    "loss = history['loss']\n",
    "val_loss = history['val_loss']\n",
    "fig.add_trace(\n",
    "    go.Scatter(\n",
    "        x=np.arange(1, len(loss)+1), y=loss,\n",
    "        mode=\"markers+lines\",\n",
    "        marker=dict(\n",
    "            color=PlotCFG.train_color, size=PlotCFG.marker_size,\n",
    "            line=dict(color=\"White\", width=0.5)\n",
    "        ),\n",
    "        line=dict(color=PlotCFG.train_color, width=PlotCFG.line_size),\n",
    "        name=\"Training Loss\"\n",
    "    ), row=1, col=1\n",
    ")\n",
    "\n",
    "\n",
    "# Accuracy Plot\n",
    "acc = history['accuracy']\n",
    "val_acc = history['val_accuracy']\n",
    "fig.add_trace(\n",
    "    go.Scatter(\n",
    "        x=np.arange(1, len(acc)+1), y=acc,\n",
    "        mode=\"markers+lines\",\n",
    "        marker=dict(\n",
    "            color=PlotCFG.train_color, size=PlotCFG.marker_size,\n",
    "            line=dict(color=\"White\", width=0.5)\n",
    "        ),\n",
    "        line=dict(color=PlotCFG.train_color, width=PlotCFG.line_size),\n",
    "        name=\"Training Accuracy\"\n",
    "    ), row=1, col=2\n",
    ")\n",
    "\n",
    "fig.add_trace(\n",
    "    go.Scatter(\n",
    "        x=np.arange(1, len(val_acc)+1), y=val_acc,\n",
    "        mode=\"markers+lines\",\n",
    "        marker=dict(\n",
    "            color=PlotCFG.train_color, size=PlotCFG.marker_size,\n",
    "            line=dict(color=\"White\", width=0.5)\n",
    "        ),\n",
    "        line=dict(color=PlotCFG.train_color, width=PlotCFG.line_size),\n",
    "        name=\"Training Validation Accuracy\"\n",
    "    ), row=1, col=3\n",
    ")\n",
    "\n",
    "\n",
    "# Update Axes\n",
    "fig.update_xaxes(title=\"Epochs\", linecolor=\"Black\", ticks=\"outside\", row=1, col=1)\n",
    "fig.update_xaxes(title=\"Epochs\", linecolor=\"Black\", ticks=\"outside\", row=1, col=2)\n",
    "fig.update_xaxes(title=\"Epochs\", linecolor=\"Black\", ticks=\"outside\", row=1, col=3)\n",
    "fig.update_yaxes(title=\"Categorical Loss\", linecolor=\"Black\", ticks=\"outside\", row=1, col=1)\n",
    "fig.update_yaxes(title=\"Accuracy\", linecolor=\"Black\", ticks=\"outside\", row=1, col=2)\n",
    "fig.update_yaxes(title=\"Validation Accuracy\", linecolor=\"Black\", ticks=\"outside\", row=1, col=3)\n",
    "\n",
    "# Update Layout\n",
    "fig.update_layout(\n",
    "    title=\"Training Loss and Metrics\", title_x=0.5,\n",
    "    width=1400, height=400,\n",
    "    showlegend=False,\n",
    "    plot_bgcolor=\"White\",\n",
    "    paper_bgcolor=\"White\"\n",
    ")\n",
    "\n",
    "# Show\n",
    "fig.show(iframe_connected=True)"
   ]
  }
 ],
 "metadata": {
  "kernelspec": {
   "display_name": "rts",
   "language": "python",
   "name": "python3"
  },
  "language_info": {
   "codemirror_mode": {
    "name": "ipython",
    "version": 3
   },
   "file_extension": ".py",
   "mimetype": "text/x-python",
   "name": "python",
   "nbconvert_exporter": "python",
   "pygments_lexer": "ipython3",
   "version": "3.10.13"
  }
 },
 "nbformat": 4,
 "nbformat_minor": 2
}
